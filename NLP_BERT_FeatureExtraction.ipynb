{
  "nbformat": 4,
  "nbformat_minor": 0,
  "metadata": {
    "colab": {
      "provenance": [],
      "authorship_tag": "ABX9TyMa5gxO4eH8m2F1A2udbFly",
      "include_colab_link": true
    },
    "kernelspec": {
      "name": "python3",
      "display_name": "Python 3"
    },
    "language_info": {
      "name": "python"
    },
    "widgets": {
      "application/vnd.jupyter.widget-state+json": {
        "795737c5e98f4b5a9ae3fc3ffe49c139": {
          "model_module": "@jupyter-widgets/controls",
          "model_name": "HBoxModel",
          "model_module_version": "1.5.0",
          "state": {
            "_dom_classes": [],
            "_model_module": "@jupyter-widgets/controls",
            "_model_module_version": "1.5.0",
            "_model_name": "HBoxModel",
            "_view_count": null,
            "_view_module": "@jupyter-widgets/controls",
            "_view_module_version": "1.5.0",
            "_view_name": "HBoxView",
            "box_style": "",
            "children": [
              "IPY_MODEL_b000b42dcf7145d9ab39a3b8644ec563",
              "IPY_MODEL_e08859a097a249479a1c830337a790c8",
              "IPY_MODEL_1bce9ca87d8341e6aad1dad97a3445a5"
            ],
            "layout": "IPY_MODEL_21e2b770f56d4345a5bf984277d2de00"
          }
        },
        "b000b42dcf7145d9ab39a3b8644ec563": {
          "model_module": "@jupyter-widgets/controls",
          "model_name": "HTMLModel",
          "model_module_version": "1.5.0",
          "state": {
            "_dom_classes": [],
            "_model_module": "@jupyter-widgets/controls",
            "_model_module_version": "1.5.0",
            "_model_name": "HTMLModel",
            "_view_count": null,
            "_view_module": "@jupyter-widgets/controls",
            "_view_module_version": "1.5.0",
            "_view_name": "HTMLView",
            "description": "",
            "description_tooltip": null,
            "layout": "IPY_MODEL_8f3a52cfeac04e6384366c40c87bed05",
            "placeholder": "​",
            "style": "IPY_MODEL_cfa888cbb4ef493eae3fe571d946d350",
            "value": "tokenizer_config.json: 100%"
          }
        },
        "e08859a097a249479a1c830337a790c8": {
          "model_module": "@jupyter-widgets/controls",
          "model_name": "FloatProgressModel",
          "model_module_version": "1.5.0",
          "state": {
            "_dom_classes": [],
            "_model_module": "@jupyter-widgets/controls",
            "_model_module_version": "1.5.0",
            "_model_name": "FloatProgressModel",
            "_view_count": null,
            "_view_module": "@jupyter-widgets/controls",
            "_view_module_version": "1.5.0",
            "_view_name": "ProgressView",
            "bar_style": "success",
            "description": "",
            "description_tooltip": null,
            "layout": "IPY_MODEL_3632097dea874e03967b459ada07ea34",
            "max": 29,
            "min": 0,
            "orientation": "horizontal",
            "style": "IPY_MODEL_f4f814a049194fb7b21887de071a12a0",
            "value": 29
          }
        },
        "1bce9ca87d8341e6aad1dad97a3445a5": {
          "model_module": "@jupyter-widgets/controls",
          "model_name": "HTMLModel",
          "model_module_version": "1.5.0",
          "state": {
            "_dom_classes": [],
            "_model_module": "@jupyter-widgets/controls",
            "_model_module_version": "1.5.0",
            "_model_name": "HTMLModel",
            "_view_count": null,
            "_view_module": "@jupyter-widgets/controls",
            "_view_module_version": "1.5.0",
            "_view_name": "HTMLView",
            "description": "",
            "description_tooltip": null,
            "layout": "IPY_MODEL_fff580b79b3b4351a5376a3470cf4771",
            "placeholder": "​",
            "style": "IPY_MODEL_e091d13b9bfa445091dbff84268b3d9d",
            "value": " 29.0/29.0 [00:00&lt;00:00, 414B/s]"
          }
        },
        "21e2b770f56d4345a5bf984277d2de00": {
          "model_module": "@jupyter-widgets/base",
          "model_name": "LayoutModel",
          "model_module_version": "1.2.0",
          "state": {
            "_model_module": "@jupyter-widgets/base",
            "_model_module_version": "1.2.0",
            "_model_name": "LayoutModel",
            "_view_count": null,
            "_view_module": "@jupyter-widgets/base",
            "_view_module_version": "1.2.0",
            "_view_name": "LayoutView",
            "align_content": null,
            "align_items": null,
            "align_self": null,
            "border": null,
            "bottom": null,
            "display": null,
            "flex": null,
            "flex_flow": null,
            "grid_area": null,
            "grid_auto_columns": null,
            "grid_auto_flow": null,
            "grid_auto_rows": null,
            "grid_column": null,
            "grid_gap": null,
            "grid_row": null,
            "grid_template_areas": null,
            "grid_template_columns": null,
            "grid_template_rows": null,
            "height": null,
            "justify_content": null,
            "justify_items": null,
            "left": null,
            "margin": null,
            "max_height": null,
            "max_width": null,
            "min_height": null,
            "min_width": null,
            "object_fit": null,
            "object_position": null,
            "order": null,
            "overflow": null,
            "overflow_x": null,
            "overflow_y": null,
            "padding": null,
            "right": null,
            "top": null,
            "visibility": null,
            "width": null
          }
        },
        "8f3a52cfeac04e6384366c40c87bed05": {
          "model_module": "@jupyter-widgets/base",
          "model_name": "LayoutModel",
          "model_module_version": "1.2.0",
          "state": {
            "_model_module": "@jupyter-widgets/base",
            "_model_module_version": "1.2.0",
            "_model_name": "LayoutModel",
            "_view_count": null,
            "_view_module": "@jupyter-widgets/base",
            "_view_module_version": "1.2.0",
            "_view_name": "LayoutView",
            "align_content": null,
            "align_items": null,
            "align_self": null,
            "border": null,
            "bottom": null,
            "display": null,
            "flex": null,
            "flex_flow": null,
            "grid_area": null,
            "grid_auto_columns": null,
            "grid_auto_flow": null,
            "grid_auto_rows": null,
            "grid_column": null,
            "grid_gap": null,
            "grid_row": null,
            "grid_template_areas": null,
            "grid_template_columns": null,
            "grid_template_rows": null,
            "height": null,
            "justify_content": null,
            "justify_items": null,
            "left": null,
            "margin": null,
            "max_height": null,
            "max_width": null,
            "min_height": null,
            "min_width": null,
            "object_fit": null,
            "object_position": null,
            "order": null,
            "overflow": null,
            "overflow_x": null,
            "overflow_y": null,
            "padding": null,
            "right": null,
            "top": null,
            "visibility": null,
            "width": null
          }
        },
        "cfa888cbb4ef493eae3fe571d946d350": {
          "model_module": "@jupyter-widgets/controls",
          "model_name": "DescriptionStyleModel",
          "model_module_version": "1.5.0",
          "state": {
            "_model_module": "@jupyter-widgets/controls",
            "_model_module_version": "1.5.0",
            "_model_name": "DescriptionStyleModel",
            "_view_count": null,
            "_view_module": "@jupyter-widgets/base",
            "_view_module_version": "1.2.0",
            "_view_name": "StyleView",
            "description_width": ""
          }
        },
        "3632097dea874e03967b459ada07ea34": {
          "model_module": "@jupyter-widgets/base",
          "model_name": "LayoutModel",
          "model_module_version": "1.2.0",
          "state": {
            "_model_module": "@jupyter-widgets/base",
            "_model_module_version": "1.2.0",
            "_model_name": "LayoutModel",
            "_view_count": null,
            "_view_module": "@jupyter-widgets/base",
            "_view_module_version": "1.2.0",
            "_view_name": "LayoutView",
            "align_content": null,
            "align_items": null,
            "align_self": null,
            "border": null,
            "bottom": null,
            "display": null,
            "flex": null,
            "flex_flow": null,
            "grid_area": null,
            "grid_auto_columns": null,
            "grid_auto_flow": null,
            "grid_auto_rows": null,
            "grid_column": null,
            "grid_gap": null,
            "grid_row": null,
            "grid_template_areas": null,
            "grid_template_columns": null,
            "grid_template_rows": null,
            "height": null,
            "justify_content": null,
            "justify_items": null,
            "left": null,
            "margin": null,
            "max_height": null,
            "max_width": null,
            "min_height": null,
            "min_width": null,
            "object_fit": null,
            "object_position": null,
            "order": null,
            "overflow": null,
            "overflow_x": null,
            "overflow_y": null,
            "padding": null,
            "right": null,
            "top": null,
            "visibility": null,
            "width": null
          }
        },
        "f4f814a049194fb7b21887de071a12a0": {
          "model_module": "@jupyter-widgets/controls",
          "model_name": "ProgressStyleModel",
          "model_module_version": "1.5.0",
          "state": {
            "_model_module": "@jupyter-widgets/controls",
            "_model_module_version": "1.5.0",
            "_model_name": "ProgressStyleModel",
            "_view_count": null,
            "_view_module": "@jupyter-widgets/base",
            "_view_module_version": "1.2.0",
            "_view_name": "StyleView",
            "bar_color": null,
            "description_width": ""
          }
        },
        "fff580b79b3b4351a5376a3470cf4771": {
          "model_module": "@jupyter-widgets/base",
          "model_name": "LayoutModel",
          "model_module_version": "1.2.0",
          "state": {
            "_model_module": "@jupyter-widgets/base",
            "_model_module_version": "1.2.0",
            "_model_name": "LayoutModel",
            "_view_count": null,
            "_view_module": "@jupyter-widgets/base",
            "_view_module_version": "1.2.0",
            "_view_name": "LayoutView",
            "align_content": null,
            "align_items": null,
            "align_self": null,
            "border": null,
            "bottom": null,
            "display": null,
            "flex": null,
            "flex_flow": null,
            "grid_area": null,
            "grid_auto_columns": null,
            "grid_auto_flow": null,
            "grid_auto_rows": null,
            "grid_column": null,
            "grid_gap": null,
            "grid_row": null,
            "grid_template_areas": null,
            "grid_template_columns": null,
            "grid_template_rows": null,
            "height": null,
            "justify_content": null,
            "justify_items": null,
            "left": null,
            "margin": null,
            "max_height": null,
            "max_width": null,
            "min_height": null,
            "min_width": null,
            "object_fit": null,
            "object_position": null,
            "order": null,
            "overflow": null,
            "overflow_x": null,
            "overflow_y": null,
            "padding": null,
            "right": null,
            "top": null,
            "visibility": null,
            "width": null
          }
        },
        "e091d13b9bfa445091dbff84268b3d9d": {
          "model_module": "@jupyter-widgets/controls",
          "model_name": "DescriptionStyleModel",
          "model_module_version": "1.5.0",
          "state": {
            "_model_module": "@jupyter-widgets/controls",
            "_model_module_version": "1.5.0",
            "_model_name": "DescriptionStyleModel",
            "_view_count": null,
            "_view_module": "@jupyter-widgets/base",
            "_view_module_version": "1.2.0",
            "_view_name": "StyleView",
            "description_width": ""
          }
        },
        "bfeb7447be9c43ec9e6effe9b4e89341": {
          "model_module": "@jupyter-widgets/controls",
          "model_name": "HBoxModel",
          "model_module_version": "1.5.0",
          "state": {
            "_dom_classes": [],
            "_model_module": "@jupyter-widgets/controls",
            "_model_module_version": "1.5.0",
            "_model_name": "HBoxModel",
            "_view_count": null,
            "_view_module": "@jupyter-widgets/controls",
            "_view_module_version": "1.5.0",
            "_view_name": "HBoxView",
            "box_style": "",
            "children": [
              "IPY_MODEL_3df4d31d59fe48c9843ba2d7c0f88c96",
              "IPY_MODEL_af0d11c15943408489dbeb9e0afb4cb7",
              "IPY_MODEL_08cb0caacb6049928e9aed9c17cded2a"
            ],
            "layout": "IPY_MODEL_56ec848f2e2a44168c996eac38588668"
          }
        },
        "3df4d31d59fe48c9843ba2d7c0f88c96": {
          "model_module": "@jupyter-widgets/controls",
          "model_name": "HTMLModel",
          "model_module_version": "1.5.0",
          "state": {
            "_dom_classes": [],
            "_model_module": "@jupyter-widgets/controls",
            "_model_module_version": "1.5.0",
            "_model_name": "HTMLModel",
            "_view_count": null,
            "_view_module": "@jupyter-widgets/controls",
            "_view_module_version": "1.5.0",
            "_view_name": "HTMLView",
            "description": "",
            "description_tooltip": null,
            "layout": "IPY_MODEL_943656686c224843ab1e30a52991b680",
            "placeholder": "​",
            "style": "IPY_MODEL_2a4e2d33ad404312a2323499ed855f8a",
            "value": "vocab.txt: 100%"
          }
        },
        "af0d11c15943408489dbeb9e0afb4cb7": {
          "model_module": "@jupyter-widgets/controls",
          "model_name": "FloatProgressModel",
          "model_module_version": "1.5.0",
          "state": {
            "_dom_classes": [],
            "_model_module": "@jupyter-widgets/controls",
            "_model_module_version": "1.5.0",
            "_model_name": "FloatProgressModel",
            "_view_count": null,
            "_view_module": "@jupyter-widgets/controls",
            "_view_module_version": "1.5.0",
            "_view_name": "ProgressView",
            "bar_style": "success",
            "description": "",
            "description_tooltip": null,
            "layout": "IPY_MODEL_995fa230e01c437b9d1f660ca95138d3",
            "max": 213450,
            "min": 0,
            "orientation": "horizontal",
            "style": "IPY_MODEL_48a392aacb6345e09281cdc487f09e90",
            "value": 213450
          }
        },
        "08cb0caacb6049928e9aed9c17cded2a": {
          "model_module": "@jupyter-widgets/controls",
          "model_name": "HTMLModel",
          "model_module_version": "1.5.0",
          "state": {
            "_dom_classes": [],
            "_model_module": "@jupyter-widgets/controls",
            "_model_module_version": "1.5.0",
            "_model_name": "HTMLModel",
            "_view_count": null,
            "_view_module": "@jupyter-widgets/controls",
            "_view_module_version": "1.5.0",
            "_view_name": "HTMLView",
            "description": "",
            "description_tooltip": null,
            "layout": "IPY_MODEL_7f4b40fcb10847a3bb36bfff6b1d8e1d",
            "placeholder": "​",
            "style": "IPY_MODEL_a69cb91a76b54866ac056c11f1e51634",
            "value": " 213k/213k [00:00&lt;00:00, 562kB/s]"
          }
        },
        "56ec848f2e2a44168c996eac38588668": {
          "model_module": "@jupyter-widgets/base",
          "model_name": "LayoutModel",
          "model_module_version": "1.2.0",
          "state": {
            "_model_module": "@jupyter-widgets/base",
            "_model_module_version": "1.2.0",
            "_model_name": "LayoutModel",
            "_view_count": null,
            "_view_module": "@jupyter-widgets/base",
            "_view_module_version": "1.2.0",
            "_view_name": "LayoutView",
            "align_content": null,
            "align_items": null,
            "align_self": null,
            "border": null,
            "bottom": null,
            "display": null,
            "flex": null,
            "flex_flow": null,
            "grid_area": null,
            "grid_auto_columns": null,
            "grid_auto_flow": null,
            "grid_auto_rows": null,
            "grid_column": null,
            "grid_gap": null,
            "grid_row": null,
            "grid_template_areas": null,
            "grid_template_columns": null,
            "grid_template_rows": null,
            "height": null,
            "justify_content": null,
            "justify_items": null,
            "left": null,
            "margin": null,
            "max_height": null,
            "max_width": null,
            "min_height": null,
            "min_width": null,
            "object_fit": null,
            "object_position": null,
            "order": null,
            "overflow": null,
            "overflow_x": null,
            "overflow_y": null,
            "padding": null,
            "right": null,
            "top": null,
            "visibility": null,
            "width": null
          }
        },
        "943656686c224843ab1e30a52991b680": {
          "model_module": "@jupyter-widgets/base",
          "model_name": "LayoutModel",
          "model_module_version": "1.2.0",
          "state": {
            "_model_module": "@jupyter-widgets/base",
            "_model_module_version": "1.2.0",
            "_model_name": "LayoutModel",
            "_view_count": null,
            "_view_module": "@jupyter-widgets/base",
            "_view_module_version": "1.2.0",
            "_view_name": "LayoutView",
            "align_content": null,
            "align_items": null,
            "align_self": null,
            "border": null,
            "bottom": null,
            "display": null,
            "flex": null,
            "flex_flow": null,
            "grid_area": null,
            "grid_auto_columns": null,
            "grid_auto_flow": null,
            "grid_auto_rows": null,
            "grid_column": null,
            "grid_gap": null,
            "grid_row": null,
            "grid_template_areas": null,
            "grid_template_columns": null,
            "grid_template_rows": null,
            "height": null,
            "justify_content": null,
            "justify_items": null,
            "left": null,
            "margin": null,
            "max_height": null,
            "max_width": null,
            "min_height": null,
            "min_width": null,
            "object_fit": null,
            "object_position": null,
            "order": null,
            "overflow": null,
            "overflow_x": null,
            "overflow_y": null,
            "padding": null,
            "right": null,
            "top": null,
            "visibility": null,
            "width": null
          }
        },
        "2a4e2d33ad404312a2323499ed855f8a": {
          "model_module": "@jupyter-widgets/controls",
          "model_name": "DescriptionStyleModel",
          "model_module_version": "1.5.0",
          "state": {
            "_model_module": "@jupyter-widgets/controls",
            "_model_module_version": "1.5.0",
            "_model_name": "DescriptionStyleModel",
            "_view_count": null,
            "_view_module": "@jupyter-widgets/base",
            "_view_module_version": "1.2.0",
            "_view_name": "StyleView",
            "description_width": ""
          }
        },
        "995fa230e01c437b9d1f660ca95138d3": {
          "model_module": "@jupyter-widgets/base",
          "model_name": "LayoutModel",
          "model_module_version": "1.2.0",
          "state": {
            "_model_module": "@jupyter-widgets/base",
            "_model_module_version": "1.2.0",
            "_model_name": "LayoutModel",
            "_view_count": null,
            "_view_module": "@jupyter-widgets/base",
            "_view_module_version": "1.2.0",
            "_view_name": "LayoutView",
            "align_content": null,
            "align_items": null,
            "align_self": null,
            "border": null,
            "bottom": null,
            "display": null,
            "flex": null,
            "flex_flow": null,
            "grid_area": null,
            "grid_auto_columns": null,
            "grid_auto_flow": null,
            "grid_auto_rows": null,
            "grid_column": null,
            "grid_gap": null,
            "grid_row": null,
            "grid_template_areas": null,
            "grid_template_columns": null,
            "grid_template_rows": null,
            "height": null,
            "justify_content": null,
            "justify_items": null,
            "left": null,
            "margin": null,
            "max_height": null,
            "max_width": null,
            "min_height": null,
            "min_width": null,
            "object_fit": null,
            "object_position": null,
            "order": null,
            "overflow": null,
            "overflow_x": null,
            "overflow_y": null,
            "padding": null,
            "right": null,
            "top": null,
            "visibility": null,
            "width": null
          }
        },
        "48a392aacb6345e09281cdc487f09e90": {
          "model_module": "@jupyter-widgets/controls",
          "model_name": "ProgressStyleModel",
          "model_module_version": "1.5.0",
          "state": {
            "_model_module": "@jupyter-widgets/controls",
            "_model_module_version": "1.5.0",
            "_model_name": "ProgressStyleModel",
            "_view_count": null,
            "_view_module": "@jupyter-widgets/base",
            "_view_module_version": "1.2.0",
            "_view_name": "StyleView",
            "bar_color": null,
            "description_width": ""
          }
        },
        "7f4b40fcb10847a3bb36bfff6b1d8e1d": {
          "model_module": "@jupyter-widgets/base",
          "model_name": "LayoutModel",
          "model_module_version": "1.2.0",
          "state": {
            "_model_module": "@jupyter-widgets/base",
            "_model_module_version": "1.2.0",
            "_model_name": "LayoutModel",
            "_view_count": null,
            "_view_module": "@jupyter-widgets/base",
            "_view_module_version": "1.2.0",
            "_view_name": "LayoutView",
            "align_content": null,
            "align_items": null,
            "align_self": null,
            "border": null,
            "bottom": null,
            "display": null,
            "flex": null,
            "flex_flow": null,
            "grid_area": null,
            "grid_auto_columns": null,
            "grid_auto_flow": null,
            "grid_auto_rows": null,
            "grid_column": null,
            "grid_gap": null,
            "grid_row": null,
            "grid_template_areas": null,
            "grid_template_columns": null,
            "grid_template_rows": null,
            "height": null,
            "justify_content": null,
            "justify_items": null,
            "left": null,
            "margin": null,
            "max_height": null,
            "max_width": null,
            "min_height": null,
            "min_width": null,
            "object_fit": null,
            "object_position": null,
            "order": null,
            "overflow": null,
            "overflow_x": null,
            "overflow_y": null,
            "padding": null,
            "right": null,
            "top": null,
            "visibility": null,
            "width": null
          }
        },
        "a69cb91a76b54866ac056c11f1e51634": {
          "model_module": "@jupyter-widgets/controls",
          "model_name": "DescriptionStyleModel",
          "model_module_version": "1.5.0",
          "state": {
            "_model_module": "@jupyter-widgets/controls",
            "_model_module_version": "1.5.0",
            "_model_name": "DescriptionStyleModel",
            "_view_count": null,
            "_view_module": "@jupyter-widgets/base",
            "_view_module_version": "1.2.0",
            "_view_name": "StyleView",
            "description_width": ""
          }
        },
        "f0e5508afc1d4eaaa00c0bac099a8d32": {
          "model_module": "@jupyter-widgets/controls",
          "model_name": "HBoxModel",
          "model_module_version": "1.5.0",
          "state": {
            "_dom_classes": [],
            "_model_module": "@jupyter-widgets/controls",
            "_model_module_version": "1.5.0",
            "_model_name": "HBoxModel",
            "_view_count": null,
            "_view_module": "@jupyter-widgets/controls",
            "_view_module_version": "1.5.0",
            "_view_name": "HBoxView",
            "box_style": "",
            "children": [
              "IPY_MODEL_fd6c69dee0394a1daccfa12bf1fed71f",
              "IPY_MODEL_f569303e6ab8414599139753ca96e09d",
              "IPY_MODEL_e849f0dbedbc403dbe99e435b59deb46"
            ],
            "layout": "IPY_MODEL_0329650a9748437a80506dab191ad999"
          }
        },
        "fd6c69dee0394a1daccfa12bf1fed71f": {
          "model_module": "@jupyter-widgets/controls",
          "model_name": "HTMLModel",
          "model_module_version": "1.5.0",
          "state": {
            "_dom_classes": [],
            "_model_module": "@jupyter-widgets/controls",
            "_model_module_version": "1.5.0",
            "_model_name": "HTMLModel",
            "_view_count": null,
            "_view_module": "@jupyter-widgets/controls",
            "_view_module_version": "1.5.0",
            "_view_name": "HTMLView",
            "description": "",
            "description_tooltip": null,
            "layout": "IPY_MODEL_815c709e4a7c4acb9f5e675bdc2dfe46",
            "placeholder": "​",
            "style": "IPY_MODEL_ea937cab00a24e3bbbc91a50ad7f9541",
            "value": "tokenizer.json: 100%"
          }
        },
        "f569303e6ab8414599139753ca96e09d": {
          "model_module": "@jupyter-widgets/controls",
          "model_name": "FloatProgressModel",
          "model_module_version": "1.5.0",
          "state": {
            "_dom_classes": [],
            "_model_module": "@jupyter-widgets/controls",
            "_model_module_version": "1.5.0",
            "_model_name": "FloatProgressModel",
            "_view_count": null,
            "_view_module": "@jupyter-widgets/controls",
            "_view_module_version": "1.5.0",
            "_view_name": "ProgressView",
            "bar_style": "success",
            "description": "",
            "description_tooltip": null,
            "layout": "IPY_MODEL_e9ada9242ad84cac9465330e97c0e144",
            "max": 435797,
            "min": 0,
            "orientation": "horizontal",
            "style": "IPY_MODEL_fc97e928af124d0c8fe5ef81922be3bf",
            "value": 435797
          }
        },
        "e849f0dbedbc403dbe99e435b59deb46": {
          "model_module": "@jupyter-widgets/controls",
          "model_name": "HTMLModel",
          "model_module_version": "1.5.0",
          "state": {
            "_dom_classes": [],
            "_model_module": "@jupyter-widgets/controls",
            "_model_module_version": "1.5.0",
            "_model_name": "HTMLModel",
            "_view_count": null,
            "_view_module": "@jupyter-widgets/controls",
            "_view_module_version": "1.5.0",
            "_view_name": "HTMLView",
            "description": "",
            "description_tooltip": null,
            "layout": "IPY_MODEL_6b671d50f5ed4f39a83d8263c703fadb",
            "placeholder": "​",
            "style": "IPY_MODEL_9e036d6d0aa24e60a91dbc0276fc9925",
            "value": " 436k/436k [00:00&lt;00:00, 770kB/s]"
          }
        },
        "0329650a9748437a80506dab191ad999": {
          "model_module": "@jupyter-widgets/base",
          "model_name": "LayoutModel",
          "model_module_version": "1.2.0",
          "state": {
            "_model_module": "@jupyter-widgets/base",
            "_model_module_version": "1.2.0",
            "_model_name": "LayoutModel",
            "_view_count": null,
            "_view_module": "@jupyter-widgets/base",
            "_view_module_version": "1.2.0",
            "_view_name": "LayoutView",
            "align_content": null,
            "align_items": null,
            "align_self": null,
            "border": null,
            "bottom": null,
            "display": null,
            "flex": null,
            "flex_flow": null,
            "grid_area": null,
            "grid_auto_columns": null,
            "grid_auto_flow": null,
            "grid_auto_rows": null,
            "grid_column": null,
            "grid_gap": null,
            "grid_row": null,
            "grid_template_areas": null,
            "grid_template_columns": null,
            "grid_template_rows": null,
            "height": null,
            "justify_content": null,
            "justify_items": null,
            "left": null,
            "margin": null,
            "max_height": null,
            "max_width": null,
            "min_height": null,
            "min_width": null,
            "object_fit": null,
            "object_position": null,
            "order": null,
            "overflow": null,
            "overflow_x": null,
            "overflow_y": null,
            "padding": null,
            "right": null,
            "top": null,
            "visibility": null,
            "width": null
          }
        },
        "815c709e4a7c4acb9f5e675bdc2dfe46": {
          "model_module": "@jupyter-widgets/base",
          "model_name": "LayoutModel",
          "model_module_version": "1.2.0",
          "state": {
            "_model_module": "@jupyter-widgets/base",
            "_model_module_version": "1.2.0",
            "_model_name": "LayoutModel",
            "_view_count": null,
            "_view_module": "@jupyter-widgets/base",
            "_view_module_version": "1.2.0",
            "_view_name": "LayoutView",
            "align_content": null,
            "align_items": null,
            "align_self": null,
            "border": null,
            "bottom": null,
            "display": null,
            "flex": null,
            "flex_flow": null,
            "grid_area": null,
            "grid_auto_columns": null,
            "grid_auto_flow": null,
            "grid_auto_rows": null,
            "grid_column": null,
            "grid_gap": null,
            "grid_row": null,
            "grid_template_areas": null,
            "grid_template_columns": null,
            "grid_template_rows": null,
            "height": null,
            "justify_content": null,
            "justify_items": null,
            "left": null,
            "margin": null,
            "max_height": null,
            "max_width": null,
            "min_height": null,
            "min_width": null,
            "object_fit": null,
            "object_position": null,
            "order": null,
            "overflow": null,
            "overflow_x": null,
            "overflow_y": null,
            "padding": null,
            "right": null,
            "top": null,
            "visibility": null,
            "width": null
          }
        },
        "ea937cab00a24e3bbbc91a50ad7f9541": {
          "model_module": "@jupyter-widgets/controls",
          "model_name": "DescriptionStyleModel",
          "model_module_version": "1.5.0",
          "state": {
            "_model_module": "@jupyter-widgets/controls",
            "_model_module_version": "1.5.0",
            "_model_name": "DescriptionStyleModel",
            "_view_count": null,
            "_view_module": "@jupyter-widgets/base",
            "_view_module_version": "1.2.0",
            "_view_name": "StyleView",
            "description_width": ""
          }
        },
        "e9ada9242ad84cac9465330e97c0e144": {
          "model_module": "@jupyter-widgets/base",
          "model_name": "LayoutModel",
          "model_module_version": "1.2.0",
          "state": {
            "_model_module": "@jupyter-widgets/base",
            "_model_module_version": "1.2.0",
            "_model_name": "LayoutModel",
            "_view_count": null,
            "_view_module": "@jupyter-widgets/base",
            "_view_module_version": "1.2.0",
            "_view_name": "LayoutView",
            "align_content": null,
            "align_items": null,
            "align_self": null,
            "border": null,
            "bottom": null,
            "display": null,
            "flex": null,
            "flex_flow": null,
            "grid_area": null,
            "grid_auto_columns": null,
            "grid_auto_flow": null,
            "grid_auto_rows": null,
            "grid_column": null,
            "grid_gap": null,
            "grid_row": null,
            "grid_template_areas": null,
            "grid_template_columns": null,
            "grid_template_rows": null,
            "height": null,
            "justify_content": null,
            "justify_items": null,
            "left": null,
            "margin": null,
            "max_height": null,
            "max_width": null,
            "min_height": null,
            "min_width": null,
            "object_fit": null,
            "object_position": null,
            "order": null,
            "overflow": null,
            "overflow_x": null,
            "overflow_y": null,
            "padding": null,
            "right": null,
            "top": null,
            "visibility": null,
            "width": null
          }
        },
        "fc97e928af124d0c8fe5ef81922be3bf": {
          "model_module": "@jupyter-widgets/controls",
          "model_name": "ProgressStyleModel",
          "model_module_version": "1.5.0",
          "state": {
            "_model_module": "@jupyter-widgets/controls",
            "_model_module_version": "1.5.0",
            "_model_name": "ProgressStyleModel",
            "_view_count": null,
            "_view_module": "@jupyter-widgets/base",
            "_view_module_version": "1.2.0",
            "_view_name": "StyleView",
            "bar_color": null,
            "description_width": ""
          }
        },
        "6b671d50f5ed4f39a83d8263c703fadb": {
          "model_module": "@jupyter-widgets/base",
          "model_name": "LayoutModel",
          "model_module_version": "1.2.0",
          "state": {
            "_model_module": "@jupyter-widgets/base",
            "_model_module_version": "1.2.0",
            "_model_name": "LayoutModel",
            "_view_count": null,
            "_view_module": "@jupyter-widgets/base",
            "_view_module_version": "1.2.0",
            "_view_name": "LayoutView",
            "align_content": null,
            "align_items": null,
            "align_self": null,
            "border": null,
            "bottom": null,
            "display": null,
            "flex": null,
            "flex_flow": null,
            "grid_area": null,
            "grid_auto_columns": null,
            "grid_auto_flow": null,
            "grid_auto_rows": null,
            "grid_column": null,
            "grid_gap": null,
            "grid_row": null,
            "grid_template_areas": null,
            "grid_template_columns": null,
            "grid_template_rows": null,
            "height": null,
            "justify_content": null,
            "justify_items": null,
            "left": null,
            "margin": null,
            "max_height": null,
            "max_width": null,
            "min_height": null,
            "min_width": null,
            "object_fit": null,
            "object_position": null,
            "order": null,
            "overflow": null,
            "overflow_x": null,
            "overflow_y": null,
            "padding": null,
            "right": null,
            "top": null,
            "visibility": null,
            "width": null
          }
        },
        "9e036d6d0aa24e60a91dbc0276fc9925": {
          "model_module": "@jupyter-widgets/controls",
          "model_name": "DescriptionStyleModel",
          "model_module_version": "1.5.0",
          "state": {
            "_model_module": "@jupyter-widgets/controls",
            "_model_module_version": "1.5.0",
            "_model_name": "DescriptionStyleModel",
            "_view_count": null,
            "_view_module": "@jupyter-widgets/base",
            "_view_module_version": "1.2.0",
            "_view_name": "StyleView",
            "description_width": ""
          }
        },
        "4280ec2846994abcb4f9960e6c30b206": {
          "model_module": "@jupyter-widgets/controls",
          "model_name": "HBoxModel",
          "model_module_version": "1.5.0",
          "state": {
            "_dom_classes": [],
            "_model_module": "@jupyter-widgets/controls",
            "_model_module_version": "1.5.0",
            "_model_name": "HBoxModel",
            "_view_count": null,
            "_view_module": "@jupyter-widgets/controls",
            "_view_module_version": "1.5.0",
            "_view_name": "HBoxView",
            "box_style": "",
            "children": [
              "IPY_MODEL_8b48e8d5b68a4d8896c6c3e9184344aa",
              "IPY_MODEL_f24c06d2aa8e4c6da0d9416b29482358",
              "IPY_MODEL_1861d65427d245cbb0594caec99298de"
            ],
            "layout": "IPY_MODEL_072dc9d782c34dadb168ed4dbba1d161"
          }
        },
        "8b48e8d5b68a4d8896c6c3e9184344aa": {
          "model_module": "@jupyter-widgets/controls",
          "model_name": "HTMLModel",
          "model_module_version": "1.5.0",
          "state": {
            "_dom_classes": [],
            "_model_module": "@jupyter-widgets/controls",
            "_model_module_version": "1.5.0",
            "_model_name": "HTMLModel",
            "_view_count": null,
            "_view_module": "@jupyter-widgets/controls",
            "_view_module_version": "1.5.0",
            "_view_name": "HTMLView",
            "description": "",
            "description_tooltip": null,
            "layout": "IPY_MODEL_c219b78425164d899315305a275a76f4",
            "placeholder": "​",
            "style": "IPY_MODEL_3d0d2a163a6749d09abc4c753169520c",
            "value": "config.json: 100%"
          }
        },
        "f24c06d2aa8e4c6da0d9416b29482358": {
          "model_module": "@jupyter-widgets/controls",
          "model_name": "FloatProgressModel",
          "model_module_version": "1.5.0",
          "state": {
            "_dom_classes": [],
            "_model_module": "@jupyter-widgets/controls",
            "_model_module_version": "1.5.0",
            "_model_name": "FloatProgressModel",
            "_view_count": null,
            "_view_module": "@jupyter-widgets/controls",
            "_view_module_version": "1.5.0",
            "_view_name": "ProgressView",
            "bar_style": "success",
            "description": "",
            "description_tooltip": null,
            "layout": "IPY_MODEL_4347e3c5b39c4a2cb4e64a840d80884c",
            "max": 570,
            "min": 0,
            "orientation": "horizontal",
            "style": "IPY_MODEL_28b047d32a964029a5b1bd88ae2c2cc4",
            "value": 570
          }
        },
        "1861d65427d245cbb0594caec99298de": {
          "model_module": "@jupyter-widgets/controls",
          "model_name": "HTMLModel",
          "model_module_version": "1.5.0",
          "state": {
            "_dom_classes": [],
            "_model_module": "@jupyter-widgets/controls",
            "_model_module_version": "1.5.0",
            "_model_name": "HTMLModel",
            "_view_count": null,
            "_view_module": "@jupyter-widgets/controls",
            "_view_module_version": "1.5.0",
            "_view_name": "HTMLView",
            "description": "",
            "description_tooltip": null,
            "layout": "IPY_MODEL_7ef3c6d76491409ab8fb82ccca674dbb",
            "placeholder": "​",
            "style": "IPY_MODEL_6dd8ba2903dc4f59be33454c2df24a6f",
            "value": " 570/570 [00:00&lt;00:00, 14.6kB/s]"
          }
        },
        "072dc9d782c34dadb168ed4dbba1d161": {
          "model_module": "@jupyter-widgets/base",
          "model_name": "LayoutModel",
          "model_module_version": "1.2.0",
          "state": {
            "_model_module": "@jupyter-widgets/base",
            "_model_module_version": "1.2.0",
            "_model_name": "LayoutModel",
            "_view_count": null,
            "_view_module": "@jupyter-widgets/base",
            "_view_module_version": "1.2.0",
            "_view_name": "LayoutView",
            "align_content": null,
            "align_items": null,
            "align_self": null,
            "border": null,
            "bottom": null,
            "display": null,
            "flex": null,
            "flex_flow": null,
            "grid_area": null,
            "grid_auto_columns": null,
            "grid_auto_flow": null,
            "grid_auto_rows": null,
            "grid_column": null,
            "grid_gap": null,
            "grid_row": null,
            "grid_template_areas": null,
            "grid_template_columns": null,
            "grid_template_rows": null,
            "height": null,
            "justify_content": null,
            "justify_items": null,
            "left": null,
            "margin": null,
            "max_height": null,
            "max_width": null,
            "min_height": null,
            "min_width": null,
            "object_fit": null,
            "object_position": null,
            "order": null,
            "overflow": null,
            "overflow_x": null,
            "overflow_y": null,
            "padding": null,
            "right": null,
            "top": null,
            "visibility": null,
            "width": null
          }
        },
        "c219b78425164d899315305a275a76f4": {
          "model_module": "@jupyter-widgets/base",
          "model_name": "LayoutModel",
          "model_module_version": "1.2.0",
          "state": {
            "_model_module": "@jupyter-widgets/base",
            "_model_module_version": "1.2.0",
            "_model_name": "LayoutModel",
            "_view_count": null,
            "_view_module": "@jupyter-widgets/base",
            "_view_module_version": "1.2.0",
            "_view_name": "LayoutView",
            "align_content": null,
            "align_items": null,
            "align_self": null,
            "border": null,
            "bottom": null,
            "display": null,
            "flex": null,
            "flex_flow": null,
            "grid_area": null,
            "grid_auto_columns": null,
            "grid_auto_flow": null,
            "grid_auto_rows": null,
            "grid_column": null,
            "grid_gap": null,
            "grid_row": null,
            "grid_template_areas": null,
            "grid_template_columns": null,
            "grid_template_rows": null,
            "height": null,
            "justify_content": null,
            "justify_items": null,
            "left": null,
            "margin": null,
            "max_height": null,
            "max_width": null,
            "min_height": null,
            "min_width": null,
            "object_fit": null,
            "object_position": null,
            "order": null,
            "overflow": null,
            "overflow_x": null,
            "overflow_y": null,
            "padding": null,
            "right": null,
            "top": null,
            "visibility": null,
            "width": null
          }
        },
        "3d0d2a163a6749d09abc4c753169520c": {
          "model_module": "@jupyter-widgets/controls",
          "model_name": "DescriptionStyleModel",
          "model_module_version": "1.5.0",
          "state": {
            "_model_module": "@jupyter-widgets/controls",
            "_model_module_version": "1.5.0",
            "_model_name": "DescriptionStyleModel",
            "_view_count": null,
            "_view_module": "@jupyter-widgets/base",
            "_view_module_version": "1.2.0",
            "_view_name": "StyleView",
            "description_width": ""
          }
        },
        "4347e3c5b39c4a2cb4e64a840d80884c": {
          "model_module": "@jupyter-widgets/base",
          "model_name": "LayoutModel",
          "model_module_version": "1.2.0",
          "state": {
            "_model_module": "@jupyter-widgets/base",
            "_model_module_version": "1.2.0",
            "_model_name": "LayoutModel",
            "_view_count": null,
            "_view_module": "@jupyter-widgets/base",
            "_view_module_version": "1.2.0",
            "_view_name": "LayoutView",
            "align_content": null,
            "align_items": null,
            "align_self": null,
            "border": null,
            "bottom": null,
            "display": null,
            "flex": null,
            "flex_flow": null,
            "grid_area": null,
            "grid_auto_columns": null,
            "grid_auto_flow": null,
            "grid_auto_rows": null,
            "grid_column": null,
            "grid_gap": null,
            "grid_row": null,
            "grid_template_areas": null,
            "grid_template_columns": null,
            "grid_template_rows": null,
            "height": null,
            "justify_content": null,
            "justify_items": null,
            "left": null,
            "margin": null,
            "max_height": null,
            "max_width": null,
            "min_height": null,
            "min_width": null,
            "object_fit": null,
            "object_position": null,
            "order": null,
            "overflow": null,
            "overflow_x": null,
            "overflow_y": null,
            "padding": null,
            "right": null,
            "top": null,
            "visibility": null,
            "width": null
          }
        },
        "28b047d32a964029a5b1bd88ae2c2cc4": {
          "model_module": "@jupyter-widgets/controls",
          "model_name": "ProgressStyleModel",
          "model_module_version": "1.5.0",
          "state": {
            "_model_module": "@jupyter-widgets/controls",
            "_model_module_version": "1.5.0",
            "_model_name": "ProgressStyleModel",
            "_view_count": null,
            "_view_module": "@jupyter-widgets/base",
            "_view_module_version": "1.2.0",
            "_view_name": "StyleView",
            "bar_color": null,
            "description_width": ""
          }
        },
        "7ef3c6d76491409ab8fb82ccca674dbb": {
          "model_module": "@jupyter-widgets/base",
          "model_name": "LayoutModel",
          "model_module_version": "1.2.0",
          "state": {
            "_model_module": "@jupyter-widgets/base",
            "_model_module_version": "1.2.0",
            "_model_name": "LayoutModel",
            "_view_count": null,
            "_view_module": "@jupyter-widgets/base",
            "_view_module_version": "1.2.0",
            "_view_name": "LayoutView",
            "align_content": null,
            "align_items": null,
            "align_self": null,
            "border": null,
            "bottom": null,
            "display": null,
            "flex": null,
            "flex_flow": null,
            "grid_area": null,
            "grid_auto_columns": null,
            "grid_auto_flow": null,
            "grid_auto_rows": null,
            "grid_column": null,
            "grid_gap": null,
            "grid_row": null,
            "grid_template_areas": null,
            "grid_template_columns": null,
            "grid_template_rows": null,
            "height": null,
            "justify_content": null,
            "justify_items": null,
            "left": null,
            "margin": null,
            "max_height": null,
            "max_width": null,
            "min_height": null,
            "min_width": null,
            "object_fit": null,
            "object_position": null,
            "order": null,
            "overflow": null,
            "overflow_x": null,
            "overflow_y": null,
            "padding": null,
            "right": null,
            "top": null,
            "visibility": null,
            "width": null
          }
        },
        "6dd8ba2903dc4f59be33454c2df24a6f": {
          "model_module": "@jupyter-widgets/controls",
          "model_name": "DescriptionStyleModel",
          "model_module_version": "1.5.0",
          "state": {
            "_model_module": "@jupyter-widgets/controls",
            "_model_module_version": "1.5.0",
            "_model_name": "DescriptionStyleModel",
            "_view_count": null,
            "_view_module": "@jupyter-widgets/base",
            "_view_module_version": "1.2.0",
            "_view_name": "StyleView",
            "description_width": ""
          }
        }
      }
    }
  },
  "cells": [
    {
      "cell_type": "markdown",
      "metadata": {
        "id": "view-in-github",
        "colab_type": "text"
      },
      "source": [
        "<a href=\"https://colab.research.google.com/github/Gaurav7888/RecSys/blob/main/NLP_BERT_FeatureExtraction.ipynb\" target=\"_parent\"><img src=\"https://colab.research.google.com/assets/colab-badge.svg\" alt=\"Open In Colab\"/></a>"
      ]
    },
    {
      "cell_type": "markdown",
      "source": [
        "# Transformers and BERT"
      ],
      "metadata": {
        "id": "tmho_1Eic7Wf"
      }
    },
    {
      "cell_type": "markdown",
      "source": [
        "#Transformer -> Encoder-Decoder Model -> Seq2Seq Model"
      ],
      "metadata": {
        "id": "Rg2_WE1kdDkC"
      }
    },
    {
      "cell_type": "code",
      "source": [
        "!pip install transformers"
      ],
      "metadata": {
        "id": "WWwAEGDVdDQH"
      },
      "execution_count": null,
      "outputs": []
    },
    {
      "cell_type": "code",
      "execution_count": 2,
      "metadata": {
        "colab": {
          "base_uri": "https://localhost:8080/"
        },
        "id": "OZqlAMBZl7XK",
        "outputId": "4e777f40-8448-4e54-9970-68af4f57a2cd"
      },
      "outputs": [
        {
          "output_type": "stream",
          "name": "stdout",
          "text": [
            "2.15.0\n"
          ]
        }
      ],
      "source": [
        "import tensorflow as tf\n",
        "print(tf.__version__)"
      ]
    },
    {
      "cell_type": "markdown",
      "source": [
        "#Tokenization"
      ],
      "metadata": {
        "id": "gxBagVvQhSrG"
      }
    },
    {
      "cell_type": "code",
      "source": [
        "sent = \"i am going to India\"\n",
        "word = sent.split(\" \")\n",
        "\n",
        "vocab = dict(enumerate(set(word)))\n",
        "print(vocab)"
      ],
      "metadata": {
        "colab": {
          "base_uri": "https://localhost:8080/"
        },
        "id": "3wJVCTvghOES",
        "outputId": "efb6d9c9-5d2f-4233-b0ee-d16b4074205a"
      },
      "execution_count": 8,
      "outputs": [
        {
          "output_type": "stream",
          "name": "stdout",
          "text": [
            "{0: 'i', 1: 'am', 2: 'India', 3: 'to', 4: 'going'}\n"
          ]
        }
      ]
    },
    {
      "cell_type": "markdown",
      "source": [
        "#In Bert we can use sub-tokenization"
      ],
      "metadata": {
        "id": "xYpR3-z-jtV0"
      }
    },
    {
      "cell_type": "code",
      "source": [
        "from transformers import BertTokenizer\n",
        "bert_tokenizer = BertTokenizer.from_pretrained(\"bert-base-cased\")"
      ],
      "metadata": {
        "colab": {
          "base_uri": "https://localhost:8080/",
          "height": 145,
          "referenced_widgets": [
            "795737c5e98f4b5a9ae3fc3ffe49c139",
            "b000b42dcf7145d9ab39a3b8644ec563",
            "e08859a097a249479a1c830337a790c8",
            "1bce9ca87d8341e6aad1dad97a3445a5",
            "21e2b770f56d4345a5bf984277d2de00",
            "8f3a52cfeac04e6384366c40c87bed05",
            "cfa888cbb4ef493eae3fe571d946d350",
            "3632097dea874e03967b459ada07ea34",
            "f4f814a049194fb7b21887de071a12a0",
            "fff580b79b3b4351a5376a3470cf4771",
            "e091d13b9bfa445091dbff84268b3d9d",
            "bfeb7447be9c43ec9e6effe9b4e89341",
            "3df4d31d59fe48c9843ba2d7c0f88c96",
            "af0d11c15943408489dbeb9e0afb4cb7",
            "08cb0caacb6049928e9aed9c17cded2a",
            "56ec848f2e2a44168c996eac38588668",
            "943656686c224843ab1e30a52991b680",
            "2a4e2d33ad404312a2323499ed855f8a",
            "995fa230e01c437b9d1f660ca95138d3",
            "48a392aacb6345e09281cdc487f09e90",
            "7f4b40fcb10847a3bb36bfff6b1d8e1d",
            "a69cb91a76b54866ac056c11f1e51634",
            "f0e5508afc1d4eaaa00c0bac099a8d32",
            "fd6c69dee0394a1daccfa12bf1fed71f",
            "f569303e6ab8414599139753ca96e09d",
            "e849f0dbedbc403dbe99e435b59deb46",
            "0329650a9748437a80506dab191ad999",
            "815c709e4a7c4acb9f5e675bdc2dfe46",
            "ea937cab00a24e3bbbc91a50ad7f9541",
            "e9ada9242ad84cac9465330e97c0e144",
            "fc97e928af124d0c8fe5ef81922be3bf",
            "6b671d50f5ed4f39a83d8263c703fadb",
            "9e036d6d0aa24e60a91dbc0276fc9925",
            "4280ec2846994abcb4f9960e6c30b206",
            "8b48e8d5b68a4d8896c6c3e9184344aa",
            "f24c06d2aa8e4c6da0d9416b29482358",
            "1861d65427d245cbb0594caec99298de",
            "072dc9d782c34dadb168ed4dbba1d161",
            "c219b78425164d899315305a275a76f4",
            "3d0d2a163a6749d09abc4c753169520c",
            "4347e3c5b39c4a2cb4e64a840d80884c",
            "28b047d32a964029a5b1bd88ae2c2cc4",
            "7ef3c6d76491409ab8fb82ccca674dbb",
            "6dd8ba2903dc4f59be33454c2df24a6f"
          ]
        },
        "id": "QlRz9tWQimcg",
        "outputId": "5cc356fb-638d-4306-a91c-be5a19c6b298"
      },
      "execution_count": 9,
      "outputs": [
        {
          "output_type": "display_data",
          "data": {
            "text/plain": [
              "tokenizer_config.json:   0%|          | 0.00/29.0 [00:00<?, ?B/s]"
            ],
            "application/vnd.jupyter.widget-view+json": {
              "version_major": 2,
              "version_minor": 0,
              "model_id": "795737c5e98f4b5a9ae3fc3ffe49c139"
            }
          },
          "metadata": {}
        },
        {
          "output_type": "display_data",
          "data": {
            "text/plain": [
              "vocab.txt:   0%|          | 0.00/213k [00:00<?, ?B/s]"
            ],
            "application/vnd.jupyter.widget-view+json": {
              "version_major": 2,
              "version_minor": 0,
              "model_id": "bfeb7447be9c43ec9e6effe9b4e89341"
            }
          },
          "metadata": {}
        },
        {
          "output_type": "display_data",
          "data": {
            "text/plain": [
              "tokenizer.json:   0%|          | 0.00/436k [00:00<?, ?B/s]"
            ],
            "application/vnd.jupyter.widget-view+json": {
              "version_major": 2,
              "version_minor": 0,
              "model_id": "f0e5508afc1d4eaaa00c0bac099a8d32"
            }
          },
          "metadata": {}
        },
        {
          "output_type": "display_data",
          "data": {
            "text/plain": [
              "config.json:   0%|          | 0.00/570 [00:00<?, ?B/s]"
            ],
            "application/vnd.jupyter.widget-view+json": {
              "version_major": 2,
              "version_minor": 0,
              "model_id": "4280ec2846994abcb4f9960e6c30b206"
            }
          },
          "metadata": {}
        }
      ]
    },
    {
      "cell_type": "code",
      "source": [
        "print(bert_tokenizer)"
      ],
      "metadata": {
        "colab": {
          "base_uri": "https://localhost:8080/"
        },
        "id": "T8mY5T0pjcLp",
        "outputId": "d16bf987-acf9-403c-fcad-932a563271b1"
      },
      "execution_count": 10,
      "outputs": [
        {
          "output_type": "stream",
          "name": "stdout",
          "text": [
            "BertTokenizer(name_or_path='bert-base-cased', vocab_size=28996, model_max_length=512, is_fast=False, padding_side='right', truncation_side='right', special_tokens={'unk_token': '[UNK]', 'sep_token': '[SEP]', 'pad_token': '[PAD]', 'cls_token': '[CLS]', 'mask_token': '[MASK]'}, clean_up_tokenization_spaces=True),  added_tokens_decoder={\n",
            "\t0: AddedToken(\"[PAD]\", rstrip=False, lstrip=False, single_word=False, normalized=False, special=True),\n",
            "\t100: AddedToken(\"[UNK]\", rstrip=False, lstrip=False, single_word=False, normalized=False, special=True),\n",
            "\t101: AddedToken(\"[CLS]\", rstrip=False, lstrip=False, single_word=False, normalized=False, special=True),\n",
            "\t102: AddedToken(\"[SEP]\", rstrip=False, lstrip=False, single_word=False, normalized=False, special=True),\n",
            "\t103: AddedToken(\"[MASK]\", rstrip=False, lstrip=False, single_word=False, normalized=False, special=True),\n",
            "}\n"
          ]
        }
      ]
    },
    {
      "cell_type": "code",
      "source": [
        "print(bert_tokenizer.cls_token)"
      ],
      "metadata": {
        "colab": {
          "base_uri": "https://localhost:8080/"
        },
        "id": "JHdqzW5gnOgW",
        "outputId": "4c93f19c-2600-4677-831d-8b84f731e15c"
      },
      "execution_count": 11,
      "outputs": [
        {
          "output_type": "stream",
          "name": "stdout",
          "text": [
            "[CLS]\n"
          ]
        }
      ]
    },
    {
      "cell_type": "code",
      "source": [
        "enc = bert_tokenizer.encode(\"Hi, my name is Gaurav Sarkar\")\n",
        "print(enc)"
      ],
      "metadata": {
        "colab": {
          "base_uri": "https://localhost:8080/"
        },
        "id": "lUgwWWF0oBYx",
        "outputId": "2b59f43c-3d4e-4e12-ca3f-003845b07757"
      },
      "execution_count": 12,
      "outputs": [
        {
          "output_type": "stream",
          "name": "stdout",
          "text": [
            "[101, 8790, 117, 1139, 1271, 1110, 144, 3984, 1611, 1964, 17784, 23870, 1197, 102]\n"
          ]
        }
      ]
    },
    {
      "cell_type": "code",
      "source": [
        "print(bert_tokenizer.decode(enc))"
      ],
      "metadata": {
        "colab": {
          "base_uri": "https://localhost:8080/"
        },
        "id": "hiwHzGjopR3W",
        "outputId": "be9d7d8a-f6cf-41ee-f7a9-bf928e0e2bd1"
      },
      "execution_count": 14,
      "outputs": [
        {
          "output_type": "stream",
          "name": "stdout",
          "text": [
            "[CLS] Hi, my name is Gaurav Sarkar [SEP]\n"
          ]
        }
      ]
    },
    {
      "cell_type": "code",
      "source": [
        "print(bert_tokenizer.decode([101]))"
      ],
      "metadata": {
        "colab": {
          "base_uri": "https://localhost:8080/"
        },
        "id": "Gru-Q5bDpYVl",
        "outputId": "df1abf27-e023-4f72-a262-b913ae866285"
      },
      "execution_count": 16,
      "outputs": [
        {
          "output_type": "stream",
          "name": "stdout",
          "text": [
            "[CLS]\n"
          ]
        }
      ]
    },
    {
      "cell_type": "code",
      "source": [
        "print(bert_tokenizer.decode([117]))"
      ],
      "metadata": {
        "colab": {
          "base_uri": "https://localhost:8080/"
        },
        "id": "NmOlhvcSpppn",
        "outputId": "046c2e6f-2581-4e46-8f7c-51d2c3a90b2e"
      },
      "execution_count": 17,
      "outputs": [
        {
          "output_type": "stream",
          "name": "stdout",
          "text": [
            ",\n"
          ]
        }
      ]
    },
    {
      "cell_type": "code",
      "source": [
        "from transformers import AutoTokenizer, TFDistilBertModel\n",
        "import tensorflow as tf\n",
        "\n",
        "tokenizer = AutoTokenizer.from_pretrained(\"distilbert-base-uncased\")\n",
        "model = TFDistilBertModel.from_pretrained(\"distilbert-base-uncased\",output_hidden_states= True)\n",
        "\n",
        "inputs = tokenizer(\"Hello, my dog is cute\", return_tensors=\"tf\")\n",
        "outputs = model(inputs)\n",
        "\n",
        "last_hidden_states = outputs.last_hidden_state"
      ],
      "metadata": {
        "colab": {
          "base_uri": "https://localhost:8080/"
        },
        "id": "iDiwt5vQprPx",
        "outputId": "115b3e91-00e6-4134-87c2-36103c08a4da"
      },
      "execution_count": 51,
      "outputs": [
        {
          "output_type": "stream",
          "name": "stderr",
          "text": [
            "Some weights of the PyTorch model were not used when initializing the TF 2.0 model TFDistilBertModel: ['vocab_layer_norm.bias', 'vocab_projector.bias', 'vocab_layer_norm.weight', 'vocab_transform.weight', 'vocab_transform.bias']\n",
            "- This IS expected if you are initializing TFDistilBertModel from a PyTorch model trained on another task or with another architecture (e.g. initializing a TFBertForSequenceClassification model from a BertForPreTraining model).\n",
            "- This IS NOT expected if you are initializing TFDistilBertModel from a PyTorch model that you expect to be exactly identical (e.g. initializing a TFBertForSequenceClassification model from a BertForSequenceClassification model).\n",
            "All the weights of TFDistilBertModel were initialized from the PyTorch model.\n",
            "If your task is similar to the task the model of the checkpoint was trained on, you can already use TFDistilBertModel for predictions without further training.\n"
          ]
        }
      ]
    },
    {
      "cell_type": "code",
      "source": [
        "outputs.hidden_states"
      ],
      "metadata": {
        "colab": {
          "base_uri": "https://localhost:8080/"
        },
        "id": "B_LVeUpP5fX9",
        "outputId": "3ef0562f-6c06-4c8c-c7f9-060e849253c5"
      },
      "execution_count": 55,
      "outputs": [
        {
          "output_type": "execute_result",
          "data": {
            "text/plain": [
              "(<tf.Tensor: shape=(1, 8, 768), dtype=float32, numpy=\n",
              " array([[[ 0.34693524, -0.16263762, -0.23334563, ...,  0.14869013,\n",
              "           0.08653457,  0.14215374],\n",
              "         [ 0.07189059, -0.07270843, -0.29645342, ..., -0.30408904,\n",
              "           0.75935036, -0.5568752 ],\n",
              "         [-0.2266272 , -0.06833446, -0.02030385, ...,  0.3494218 ,\n",
              "           0.59173036,  0.19666311],\n",
              "         ...,\n",
              "         [-0.71145713, -0.565529  , -0.5916915 , ...,  0.3092697 ,\n",
              "           0.4631526 ,  0.6692428 ],\n",
              "         [-1.672164  , -0.04439694,  0.7265117 , ..., -0.34271553,\n",
              "           0.80091655,  0.01589048],\n",
              "         [-0.2762845 , -0.3494379 , -0.18642372, ..., -0.34279844,\n",
              "           0.36574966, -0.15936378]]], dtype=float32)>,\n",
              " <tf.Tensor: shape=(1, 8, 768), dtype=float32, numpy=\n",
              " array([[[-0.0130707 , -0.04607557,  0.01293382, ...,  0.2527569 ,\n",
              "           0.05553706, -0.09864567],\n",
              "         [ 0.34548125,  0.42678016,  0.89264566, ...,  0.1594392 ,\n",
              "           0.72851354, -0.42441002],\n",
              "         [-0.24358898,  0.17839643,  0.01987778, ..., -0.25898334,\n",
              "           0.39184833, -0.01964293],\n",
              "         ...,\n",
              "         [-0.21568468, -0.6239232 ,  0.0926407 , ..., -0.21191955,\n",
              "           0.04569706,  0.61585975],\n",
              "         [-0.89834076, -0.53469235,  1.6260358 , ..., -0.17320228,\n",
              "           0.27655435, -0.5875573 ],\n",
              "         [-0.21656442, -0.09481291, -0.11009206, ..., -0.03358375,\n",
              "           0.28222567, -0.09155285]]], dtype=float32)>,\n",
              " <tf.Tensor: shape=(1, 8, 768), dtype=float32, numpy=\n",
              " array([[[ 0.02833926, -0.3936392 ,  0.18397161, ..., -0.17538477,\n",
              "           0.4782602 ,  0.15949836],\n",
              "         [ 0.72894365,  0.22902463,  0.63798416, ...,  0.17498164,\n",
              "           0.8035262 , -0.73452425],\n",
              "         [-0.2142002 ,  0.42475563,  0.19829199, ...,  0.09403105,\n",
              "           0.29003233,  0.16439976],\n",
              "         ...,\n",
              "         [-0.00333649, -0.3608895 ,  0.18938255, ..., -0.3356576 ,\n",
              "           0.01928199,  0.6864108 ],\n",
              "         [-0.35320723, -0.38713384,  0.909914  , ..., -0.2369737 ,\n",
              "           0.08931901, -0.5806873 ],\n",
              "         [-0.04499643, -0.06386038,  0.07283026, ..., -0.0408642 ,\n",
              "           0.04128024, -0.04075396]]], dtype=float32)>,\n",
              " <tf.Tensor: shape=(1, 8, 768), dtype=float32, numpy=\n",
              " array([[[ 0.10820383, -0.4677217 ,  0.07244532, ..., -0.4183401 ,\n",
              "           0.72586846,  0.27548516],\n",
              "         [ 0.71559846,  0.09426699,  0.46528515, ...,  0.35715362,\n",
              "           0.6800912 , -0.6040911 ],\n",
              "         [ 0.0254164 ,  0.15424927,  0.05820131, ...,  0.13956532,\n",
              "           0.30587137,  0.6186198 ],\n",
              "         ...,\n",
              "         [ 0.04637085, -0.4829729 ,  0.11520612, ..., -0.12803866,\n",
              "          -0.00722564,  0.60834706],\n",
              "         [-0.2661145 , -0.14724968,  0.4218289 , ..., -0.1707934 ,\n",
              "          -0.11725795, -0.7663714 ],\n",
              "         [-0.01823469, -0.04187582,  0.01764551, ..., -0.01735335,\n",
              "          -0.02079388, -0.02067892]]], dtype=float32)>,\n",
              " <tf.Tensor: shape=(1, 8, 768), dtype=float32, numpy=\n",
              " array([[[-0.0222875 , -0.5689983 , -0.6709884 , ..., -0.5818518 ,\n",
              "           0.37343833,  0.30129653],\n",
              "         [ 0.5939502 ,  0.2553901 ,  0.7921446 , ...,  0.13779865,\n",
              "           0.7966601 , -0.53323555],\n",
              "         [-0.17370634,  0.38437283,  0.37968862, ..., -0.45012477,\n",
              "           0.02721789,  0.33565113],\n",
              "         ...,\n",
              "         [-0.00660215, -0.20132706,  0.26563874, ...,  0.21002801,\n",
              "           0.17098087,  0.520353  ],\n",
              "         [-0.41023654, -0.11391649,  0.36256433, ..., -0.04570097,\n",
              "           0.22422065, -0.8310344 ],\n",
              "         [-0.01610124, -0.01228138,  0.03791336, ..., -0.0511678 ,\n",
              "          -0.06002632, -0.02051464]]], dtype=float32)>,\n",
              " <tf.Tensor: shape=(1, 8, 768), dtype=float32, numpy=\n",
              " array([[[-0.00695327, -0.39751366, -0.07238934, ..., -0.32579294,\n",
              "           0.38993058,  0.36298525],\n",
              "         [ 0.3188545 ,  0.2525522 ,  0.51793146, ..., -0.12231026,\n",
              "           0.622484  , -0.46164763],\n",
              "         [-0.60633516,  0.16715623,  0.4088816 , ..., -0.6191885 ,\n",
              "           0.30506375,  0.40506393],\n",
              "         ...,\n",
              "         [-0.11853438,  0.03584953,  0.07931255, ...,  0.17251812,\n",
              "           0.1216723 ,  0.7270425 ],\n",
              "         [-0.6839112 ,  0.08479758,  0.07368563, ..., -0.03406518,\n",
              "           0.09101453, -0.41316098],\n",
              "         [ 0.03534729,  0.02068666, -0.0481695 , ..., -0.00281667,\n",
              "           0.00717201, -0.01250404]]], dtype=float32)>,\n",
              " <tf.Tensor: shape=(1, 8, 768), dtype=float32, numpy=\n",
              " array([[[-1.8296391e-01, -7.4054100e-02,  5.0267510e-02, ...,\n",
              "          -1.1260703e-01,  4.4493085e-01,  4.0941304e-01],\n",
              "         [ 7.0612691e-04,  1.4825360e-01,  3.4328312e-01, ...,\n",
              "          -8.6039729e-02,  6.9474769e-01,  4.3352760e-02],\n",
              "         [-5.0720561e-01,  5.3085506e-01,  3.7162617e-01, ...,\n",
              "          -5.6287444e-01,  1.3755682e-01,  2.8475249e-01],\n",
              "         ...,\n",
              "         [-4.2251363e-01,  5.7314865e-02,  2.4338329e-01, ...,\n",
              "          -1.5222672e-01,  2.4462420e-01,  6.4154822e-01],\n",
              "         [-4.9384448e-01, -1.8895446e-01,  1.2640814e-01, ...,\n",
              "           6.3240394e-02,  3.6912829e-01, -5.8252428e-02],\n",
              "         [ 8.3268678e-01,  2.4948236e-01, -4.5439535e-01, ...,\n",
              "           1.1997570e-01, -3.9257339e-01, -2.7785373e-01]]], dtype=float32)>)"
            ]
          },
          "metadata": {},
          "execution_count": 55
        }
      ]
    },
    {
      "cell_type": "code",
      "source": [
        "outputs[:4]"
      ],
      "metadata": {
        "colab": {
          "base_uri": "https://localhost:8080/"
        },
        "id": "xhPUCaMfs3mu",
        "outputId": "f259039d-005f-4b42-cf35-6a84e54b68a8"
      },
      "execution_count": 53,
      "outputs": [
        {
          "output_type": "execute_result",
          "data": {
            "text/plain": [
              "(<tf.Tensor: shape=(1, 8, 768), dtype=float32, numpy=\n",
              " array([[[-1.8296391e-01, -7.4054100e-02,  5.0267510e-02, ...,\n",
              "          -1.1260703e-01,  4.4493085e-01,  4.0941304e-01],\n",
              "         [ 7.0612691e-04,  1.4825360e-01,  3.4328312e-01, ...,\n",
              "          -8.6039729e-02,  6.9474769e-01,  4.3352760e-02],\n",
              "         [-5.0720561e-01,  5.3085506e-01,  3.7162617e-01, ...,\n",
              "          -5.6287444e-01,  1.3755682e-01,  2.8475249e-01],\n",
              "         ...,\n",
              "         [-4.2251363e-01,  5.7314865e-02,  2.4338329e-01, ...,\n",
              "          -1.5222672e-01,  2.4462420e-01,  6.4154822e-01],\n",
              "         [-4.9384448e-01, -1.8895446e-01,  1.2640814e-01, ...,\n",
              "           6.3240394e-02,  3.6912829e-01, -5.8252428e-02],\n",
              "         [ 8.3268678e-01,  2.4948236e-01, -4.5439535e-01, ...,\n",
              "           1.1997570e-01, -3.9257339e-01, -2.7785373e-01]]], dtype=float32)>,\n",
              " (<tf.Tensor: shape=(1, 8, 768), dtype=float32, numpy=\n",
              "  array([[[ 0.34693524, -0.16263762, -0.23334563, ...,  0.14869013,\n",
              "            0.08653457,  0.14215374],\n",
              "          [ 0.07189059, -0.07270843, -0.29645342, ..., -0.30408904,\n",
              "            0.75935036, -0.5568752 ],\n",
              "          [-0.2266272 , -0.06833446, -0.02030385, ...,  0.3494218 ,\n",
              "            0.59173036,  0.19666311],\n",
              "          ...,\n",
              "          [-0.71145713, -0.565529  , -0.5916915 , ...,  0.3092697 ,\n",
              "            0.4631526 ,  0.6692428 ],\n",
              "          [-1.672164  , -0.04439694,  0.7265117 , ..., -0.34271553,\n",
              "            0.80091655,  0.01589048],\n",
              "          [-0.2762845 , -0.3494379 , -0.18642372, ..., -0.34279844,\n",
              "            0.36574966, -0.15936378]]], dtype=float32)>,\n",
              "  <tf.Tensor: shape=(1, 8, 768), dtype=float32, numpy=\n",
              "  array([[[-0.0130707 , -0.04607557,  0.01293382, ...,  0.2527569 ,\n",
              "            0.05553706, -0.09864567],\n",
              "          [ 0.34548125,  0.42678016,  0.89264566, ...,  0.1594392 ,\n",
              "            0.72851354, -0.42441002],\n",
              "          [-0.24358898,  0.17839643,  0.01987778, ..., -0.25898334,\n",
              "            0.39184833, -0.01964293],\n",
              "          ...,\n",
              "          [-0.21568468, -0.6239232 ,  0.0926407 , ..., -0.21191955,\n",
              "            0.04569706,  0.61585975],\n",
              "          [-0.89834076, -0.53469235,  1.6260358 , ..., -0.17320228,\n",
              "            0.27655435, -0.5875573 ],\n",
              "          [-0.21656442, -0.09481291, -0.11009206, ..., -0.03358375,\n",
              "            0.28222567, -0.09155285]]], dtype=float32)>,\n",
              "  <tf.Tensor: shape=(1, 8, 768), dtype=float32, numpy=\n",
              "  array([[[ 0.02833926, -0.3936392 ,  0.18397161, ..., -0.17538477,\n",
              "            0.4782602 ,  0.15949836],\n",
              "          [ 0.72894365,  0.22902463,  0.63798416, ...,  0.17498164,\n",
              "            0.8035262 , -0.73452425],\n",
              "          [-0.2142002 ,  0.42475563,  0.19829199, ...,  0.09403105,\n",
              "            0.29003233,  0.16439976],\n",
              "          ...,\n",
              "          [-0.00333649, -0.3608895 ,  0.18938255, ..., -0.3356576 ,\n",
              "            0.01928199,  0.6864108 ],\n",
              "          [-0.35320723, -0.38713384,  0.909914  , ..., -0.2369737 ,\n",
              "            0.08931901, -0.5806873 ],\n",
              "          [-0.04499643, -0.06386038,  0.07283026, ..., -0.0408642 ,\n",
              "            0.04128024, -0.04075396]]], dtype=float32)>,\n",
              "  <tf.Tensor: shape=(1, 8, 768), dtype=float32, numpy=\n",
              "  array([[[ 0.10820383, -0.4677217 ,  0.07244532, ..., -0.4183401 ,\n",
              "            0.72586846,  0.27548516],\n",
              "          [ 0.71559846,  0.09426699,  0.46528515, ...,  0.35715362,\n",
              "            0.6800912 , -0.6040911 ],\n",
              "          [ 0.0254164 ,  0.15424927,  0.05820131, ...,  0.13956532,\n",
              "            0.30587137,  0.6186198 ],\n",
              "          ...,\n",
              "          [ 0.04637085, -0.4829729 ,  0.11520612, ..., -0.12803866,\n",
              "           -0.00722564,  0.60834706],\n",
              "          [-0.2661145 , -0.14724968,  0.4218289 , ..., -0.1707934 ,\n",
              "           -0.11725795, -0.7663714 ],\n",
              "          [-0.01823469, -0.04187582,  0.01764551, ..., -0.01735335,\n",
              "           -0.02079388, -0.02067892]]], dtype=float32)>,\n",
              "  <tf.Tensor: shape=(1, 8, 768), dtype=float32, numpy=\n",
              "  array([[[-0.0222875 , -0.5689983 , -0.6709884 , ..., -0.5818518 ,\n",
              "            0.37343833,  0.30129653],\n",
              "          [ 0.5939502 ,  0.2553901 ,  0.7921446 , ...,  0.13779865,\n",
              "            0.7966601 , -0.53323555],\n",
              "          [-0.17370634,  0.38437283,  0.37968862, ..., -0.45012477,\n",
              "            0.02721789,  0.33565113],\n",
              "          ...,\n",
              "          [-0.00660215, -0.20132706,  0.26563874, ...,  0.21002801,\n",
              "            0.17098087,  0.520353  ],\n",
              "          [-0.41023654, -0.11391649,  0.36256433, ..., -0.04570097,\n",
              "            0.22422065, -0.8310344 ],\n",
              "          [-0.01610124, -0.01228138,  0.03791336, ..., -0.0511678 ,\n",
              "           -0.06002632, -0.02051464]]], dtype=float32)>,\n",
              "  <tf.Tensor: shape=(1, 8, 768), dtype=float32, numpy=\n",
              "  array([[[-0.00695327, -0.39751366, -0.07238934, ..., -0.32579294,\n",
              "            0.38993058,  0.36298525],\n",
              "          [ 0.3188545 ,  0.2525522 ,  0.51793146, ..., -0.12231026,\n",
              "            0.622484  , -0.46164763],\n",
              "          [-0.60633516,  0.16715623,  0.4088816 , ..., -0.6191885 ,\n",
              "            0.30506375,  0.40506393],\n",
              "          ...,\n",
              "          [-0.11853438,  0.03584953,  0.07931255, ...,  0.17251812,\n",
              "            0.1216723 ,  0.7270425 ],\n",
              "          [-0.6839112 ,  0.08479758,  0.07368563, ..., -0.03406518,\n",
              "            0.09101453, -0.41316098],\n",
              "          [ 0.03534729,  0.02068666, -0.0481695 , ..., -0.00281667,\n",
              "            0.00717201, -0.01250404]]], dtype=float32)>,\n",
              "  <tf.Tensor: shape=(1, 8, 768), dtype=float32, numpy=\n",
              "  array([[[-1.8296391e-01, -7.4054100e-02,  5.0267510e-02, ...,\n",
              "           -1.1260703e-01,  4.4493085e-01,  4.0941304e-01],\n",
              "          [ 7.0612691e-04,  1.4825360e-01,  3.4328312e-01, ...,\n",
              "           -8.6039729e-02,  6.9474769e-01,  4.3352760e-02],\n",
              "          [-5.0720561e-01,  5.3085506e-01,  3.7162617e-01, ...,\n",
              "           -5.6287444e-01,  1.3755682e-01,  2.8475249e-01],\n",
              "          ...,\n",
              "          [-4.2251363e-01,  5.7314865e-02,  2.4338329e-01, ...,\n",
              "           -1.5222672e-01,  2.4462420e-01,  6.4154822e-01],\n",
              "          [-4.9384448e-01, -1.8895446e-01,  1.2640814e-01, ...,\n",
              "            6.3240394e-02,  3.6912829e-01, -5.8252428e-02],\n",
              "          [ 8.3268678e-01,  2.4948236e-01, -4.5439535e-01, ...,\n",
              "            1.1997570e-01, -3.9257339e-01, -2.7785373e-01]]], dtype=float32)>))"
            ]
          },
          "metadata": {},
          "execution_count": 53
        }
      ]
    },
    {
      "cell_type": "code",
      "source": [
        "last_hidden_states"
      ],
      "metadata": {
        "colab": {
          "base_uri": "https://localhost:8080/"
        },
        "id": "p6N1yf8GtGgE",
        "outputId": "f54e557d-70eb-48ad-dfbe-3e050355b99f"
      },
      "execution_count": 54,
      "outputs": [
        {
          "output_type": "execute_result",
          "data": {
            "text/plain": [
              "<tf.Tensor: shape=(1, 8, 768), dtype=float32, numpy=\n",
              "array([[[-1.8296391e-01, -7.4054100e-02,  5.0267510e-02, ...,\n",
              "         -1.1260703e-01,  4.4493085e-01,  4.0941304e-01],\n",
              "        [ 7.0612691e-04,  1.4825360e-01,  3.4328312e-01, ...,\n",
              "         -8.6039729e-02,  6.9474769e-01,  4.3352760e-02],\n",
              "        [-5.0720561e-01,  5.3085506e-01,  3.7162617e-01, ...,\n",
              "         -5.6287444e-01,  1.3755682e-01,  2.8475249e-01],\n",
              "        ...,\n",
              "        [-4.2251363e-01,  5.7314865e-02,  2.4338329e-01, ...,\n",
              "         -1.5222672e-01,  2.4462420e-01,  6.4154822e-01],\n",
              "        [-4.9384448e-01, -1.8895446e-01,  1.2640814e-01, ...,\n",
              "          6.3240394e-02,  3.6912829e-01, -5.8252428e-02],\n",
              "        [ 8.3268678e-01,  2.4948236e-01, -4.5439535e-01, ...,\n",
              "          1.1997570e-01, -3.9257339e-01, -2.7785373e-01]]], dtype=float32)>"
            ]
          },
          "metadata": {},
          "execution_count": 54
        }
      ]
    },
    {
      "cell_type": "code",
      "source": [
        "e = tokenizer.encode(\"Hello, my dog is cute\")\n",
        "print(e)"
      ],
      "metadata": {
        "colab": {
          "base_uri": "https://localhost:8080/"
        },
        "id": "f_GH7ZK-tKO6",
        "outputId": "67b283ab-905a-4c85-8f97-d0bb577a0eaf"
      },
      "execution_count": 21,
      "outputs": [
        {
          "output_type": "stream",
          "name": "stdout",
          "text": [
            "[101, 7592, 1010, 2026, 3899, 2003, 10140, 102]\n"
          ]
        }
      ]
    },
    {
      "cell_type": "code",
      "source": [
        "input = tf.constant(e)"
      ],
      "metadata": {
        "id": "h7X4EZxivc-8"
      },
      "execution_count": 22,
      "outputs": []
    },
    {
      "cell_type": "code",
      "source": [
        "input"
      ],
      "metadata": {
        "colab": {
          "base_uri": "https://localhost:8080/"
        },
        "id": "bqeT09CXvjON",
        "outputId": "2b7315b1-2325-4da3-b630-22a650c61f85"
      },
      "execution_count": 23,
      "outputs": [
        {
          "output_type": "execute_result",
          "data": {
            "text/plain": [
              "<tf.Tensor: shape=(8,), dtype=int32, numpy=\n",
              "array([  101,  7592,  1010,  2026,  3899,  2003, 10140,   102],\n",
              "      dtype=int32)>"
            ]
          },
          "metadata": {},
          "execution_count": 23
        }
      ]
    },
    {
      "cell_type": "code",
      "source": [
        "print(input[None,:].shape)"
      ],
      "metadata": {
        "colab": {
          "base_uri": "https://localhost:8080/"
        },
        "id": "e-MqFGpuvllX",
        "outputId": "5901d7f7-8e62-4c05-a893-ff87684b686b"
      },
      "execution_count": 29,
      "outputs": [
        {
          "output_type": "stream",
          "name": "stdout",
          "text": [
            "(1, 8)\n"
          ]
        }
      ]
    },
    {
      "cell_type": "code",
      "source": [
        "output= model(input)"
      ],
      "metadata": {
        "id": "TvepfN-CvmeV"
      },
      "execution_count": 30,
      "outputs": []
    },
    {
      "cell_type": "code",
      "source": [
        "print(type(output))\n",
        "print(output)"
      ],
      "metadata": {
        "colab": {
          "base_uri": "https://localhost:8080/"
        },
        "id": "iXM66C3KxZA8",
        "outputId": "fb436002-914d-472e-82eb-f16238dd9f3d"
      },
      "execution_count": 32,
      "outputs": [
        {
          "output_type": "stream",
          "name": "stdout",
          "text": [
            "<class 'transformers.modeling_tf_outputs.TFBaseModelOutput'>\n",
            "TFBaseModelOutput(last_hidden_state=<tf.Tensor: shape=(1, 8, 768), dtype=float32, numpy=\n",
            "array([[[-1.8296391e-01, -7.4054100e-02,  5.0267510e-02, ...,\n",
            "         -1.1260703e-01,  4.4493085e-01,  4.0941304e-01],\n",
            "        [ 7.0612691e-04,  1.4825360e-01,  3.4328312e-01, ...,\n",
            "         -8.6039729e-02,  6.9474769e-01,  4.3352760e-02],\n",
            "        [-5.0720561e-01,  5.3085506e-01,  3.7162617e-01, ...,\n",
            "         -5.6287444e-01,  1.3755682e-01,  2.8475249e-01],\n",
            "        ...,\n",
            "        [-4.2251363e-01,  5.7314865e-02,  2.4338329e-01, ...,\n",
            "         -1.5222672e-01,  2.4462420e-01,  6.4154822e-01],\n",
            "        [-4.9384448e-01, -1.8895446e-01,  1.2640814e-01, ...,\n",
            "          6.3240394e-02,  3.6912829e-01, -5.8252428e-02],\n",
            "        [ 8.3268678e-01,  2.4948236e-01, -4.5439535e-01, ...,\n",
            "          1.1997570e-01, -3.9257339e-01, -2.7785373e-01]]], dtype=float32)>, hidden_states=None, attentions=None)\n"
          ]
        }
      ]
    },
    {
      "cell_type": "code",
      "source": [
        "print(output[0][0][0].shape)"
      ],
      "metadata": {
        "colab": {
          "base_uri": "https://localhost:8080/"
        },
        "id": "DYAjHAH6xheC",
        "outputId": "7707d9c1-fe2d-4014-ee9a-f83de1ba1863"
      },
      "execution_count": 37,
      "outputs": [
        {
          "output_type": "stream",
          "name": "stdout",
          "text": [
            "(768,)\n"
          ]
        }
      ]
    },
    {
      "cell_type": "markdown",
      "source": [
        "#last 4 layers concat results"
      ],
      "metadata": {
        "id": "pVzm8xny0r6V"
      }
    },
    {
      "cell_type": "code",
      "source": [
        "model = DistilBertModel.from_pretrained(\"distilbert-base-uncased\",)\n"
      ],
      "metadata": {
        "id": "JAFjdvjE0Si4"
      },
      "execution_count": 43,
      "outputs": []
    },
    {
      "cell_type": "code",
      "source": [
        "from transformers import DistilBertConfig, DistilBertModel\n",
        "\n",
        "# Initializing a DistilBERT configuration\n",
        "configuration = DistilBertConfig()\n"
      ],
      "metadata": {
        "id": "9qTFwWTB4crL"
      },
      "execution_count": 46,
      "outputs": []
    },
    {
      "cell_type": "code",
      "source": [
        "configuration"
      ],
      "metadata": {
        "colab": {
          "base_uri": "https://localhost:8080/"
        },
        "id": "-GYeKeXW4g0c",
        "outputId": "b60f8698-ef5f-4c8b-e7fb-45c8055cea00"
      },
      "execution_count": 47,
      "outputs": [
        {
          "output_type": "execute_result",
          "data": {
            "text/plain": [
              "DistilBertConfig {\n",
              "  \"activation\": \"gelu\",\n",
              "  \"attention_dropout\": 0.1,\n",
              "  \"dim\": 768,\n",
              "  \"dropout\": 0.1,\n",
              "  \"hidden_dim\": 3072,\n",
              "  \"initializer_range\": 0.02,\n",
              "  \"max_position_embeddings\": 512,\n",
              "  \"model_type\": \"distilbert\",\n",
              "  \"n_heads\": 12,\n",
              "  \"n_layers\": 6,\n",
              "  \"pad_token_id\": 0,\n",
              "  \"qa_dropout\": 0.1,\n",
              "  \"seq_classif_dropout\": 0.2,\n",
              "  \"sinusoidal_pos_embds\": false,\n",
              "  \"transformers_version\": \"4.35.2\",\n",
              "  \"vocab_size\": 30522\n",
              "}"
            ]
          },
          "metadata": {},
          "execution_count": 47
        }
      ]
    },
    {
      "cell_type": "code",
      "source": [],
      "metadata": {
        "id": "QqyhCn2J12ZJ"
      },
      "execution_count": null,
      "outputs": []
    }
  ]
}